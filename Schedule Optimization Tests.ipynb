{
 "cells": [
  {
   "cell_type": "code",
   "execution_count": 1,
   "metadata": {},
   "outputs": [],
   "source": [
    "### Please fill in the blank with the address of your class schedule:\n",
    "### for example: class_schedule.csv\n",
    "schedule = 'class_schedule.csv'\n",
    "preferences = []"
   ]
  },
  {
   "cell_type": "code",
   "execution_count": 2,
   "metadata": {},
   "outputs": [],
   "source": [
    "### Please fill in the blank with the name of your first choice class\n",
    "first_choice = 'Computer Science'\n",
    "preferences.append(first_choice)"
   ]
  },
  {
   "cell_type": "code",
   "execution_count": 3,
   "metadata": {},
   "outputs": [],
   "source": [
    "### Please fill in the blank with the name of your second choice class\n",
    "second_choice = 'Computer Science'\n",
    "preferences.append(second_choice)"
   ]
  },
  {
   "cell_type": "code",
   "execution_count": 4,
   "metadata": {},
   "outputs": [],
   "source": [
    "### Please fill in the blank with the name of your third choice class\n",
    "third_choice = 'Chemistry'\n",
    "preferences.append(third_choice)"
   ]
  },
  {
   "cell_type": "code",
   "execution_count": 5,
   "metadata": {},
   "outputs": [],
   "source": [
    "### Please fill in the blank with the name of your fourth choice class\n",
    "fourth_choice = 'History'\n",
    "preferences.append(fourth_choice)"
   ]
  },
  {
   "cell_type": "code",
   "execution_count": 6,
   "metadata": {},
   "outputs": [],
   "source": [
    "### Please fill in the blank with the name of your fifth choice class\n",
    "fifth_choice = 'French'\n",
    "preferences.append(fifth_choice)"
   ]
  },
  {
   "cell_type": "code",
   "execution_count": 7,
   "metadata": {},
   "outputs": [],
   "source": [
    "### What is the maximum number of STEM classes you want to take?\n",
    "max_stem = 2"
   ]
  },
  {
   "cell_type": "code",
   "execution_count": 8,
   "metadata": {},
   "outputs": [],
   "source": [
    "### What is the maximum number of Arts classes you want to take?\n",
    "max_art = 1"
   ]
  },
  {
   "cell_type": "code",
   "execution_count": 9,
   "metadata": {},
   "outputs": [],
   "source": [
    "### What is the maximum number of Foreign Language classes you want to take?\n",
    "max_lang = 1"
   ]
  },
  {
   "cell_type": "code",
   "execution_count": 10,
   "metadata": {},
   "outputs": [],
   "source": [
    "### List the professors you would like to avoid in order starting with least preferred:\n",
    "bad_prof = ['Cleveland','Ike']"
   ]
  },
  {
   "cell_type": "code",
   "execution_count": 11,
   "metadata": {},
   "outputs": [],
   "source": [
    "### List the professors you would like to have in order starting with most preferred:\n",
    "good_prof = ['Adams','Buchanan']"
   ]
  },
  {
   "cell_type": "code",
   "execution_count": 12,
   "metadata": {},
   "outputs": [],
   "source": [
    "import pandas as pd\n",
    "df = pd.read_csv(schedule)"
   ]
  },
  {
   "cell_type": "code",
   "execution_count": 13,
   "metadata": {},
   "outputs": [
    {
     "data": {
      "text/plain": [
       "46"
      ]
     },
     "execution_count": 13,
     "metadata": {},
     "output_type": "execute_result"
    }
   ],
   "source": [
    "### calculates the number of CNF clauses that will exist in the file\n",
    "time_slot = 1;\n",
    "max_weight = 30\n",
    "def findCount():\n",
    "    slot_value = 1;\n",
    "    count = 0;\n",
    "    while slot_value < 5:\n",
    "        n = df[df[\"Time Slot\"] == slot_value][\"Class ID\"].size\n",
    "        count = count + ((n * (n-1) / 2) + 1)\n",
    "        slot_value += 1;\n",
    "    for x in preferences:\n",
    "        n = df[df[\"Subject\"] == x][\"Class ID\"].size\n",
    "        count = count + ((n * (n-1) / 2) + 1)\n",
    "    return int(count);\n",
    "findCount()"
   ]
  },
  {
   "cell_type": "code",
   "execution_count": 14,
   "metadata": {},
   "outputs": [
    {
     "name": "stdout",
     "output_type": "stream",
     "text": [
      "p wcnf 18 46 30\n"
     ]
    }
   ],
   "source": [
    "### prints the header information needed for the SAT4j MAX-SAT Solver\n",
    "print(\"p wcnf\", end=' ')\n",
    "print(df.index.size, end=' ')\n",
    "print(findCount(), end=' ')\n",
    "print(max_weight)"
   ]
  },
  {
   "cell_type": "code",
   "execution_count": 15,
   "metadata": {},
   "outputs": [
    {
     "name": "stdout",
     "output_type": "stream",
     "text": [
      "30 1 8 12 13 16 0\n",
      "30 -1 -8 0\n",
      "30 -1 -12 0\n",
      "30 -1 -13 0\n",
      "30 -1 -16 0\n",
      "30 -8 -12 0\n",
      "30 -8 -13 0\n",
      "30 -8 -16 0\n",
      "30 -12 -13 0\n",
      "30 -12 -16 0\n",
      "30 -13 -16 0\n",
      "30 2 6 10 15 18 0\n",
      "30 -2 -6 0\n",
      "30 -2 -10 0\n",
      "30 -2 -15 0\n",
      "30 -2 -18 0\n",
      "30 -6 -10 0\n",
      "30 -6 -15 0\n",
      "30 -6 -18 0\n",
      "30 -10 -15 0\n",
      "30 -10 -18 0\n",
      "30 -15 -18 0\n",
      "30 3 7 14 17 0\n",
      "30 -3 -7 0\n",
      "30 -3 -14 0\n",
      "30 -3 -17 0\n",
      "30 -7 -14 0\n",
      "30 -7 -17 0\n",
      "30 -14 -17 0\n",
      "30 4 5 9 11 0\n",
      "30 -4 -5 0\n",
      "30 -4 -9 0\n",
      "30 -4 -11 0\n",
      "30 -5 -9 0\n",
      "30 -5 -11 0\n",
      "30 -9 -11 0\n"
     ]
    }
   ],
   "source": [
    "### prints the clauses for time slot constraints\n",
    "while time_slot < 5:\n",
    "    ts = df[df[\"Time Slot\"] == time_slot][\"Class ID\"].values.tolist()\n",
    "        \n",
    "## picks one class from time slot\n",
    "    print(max_weight, end=\" \")\n",
    "    for x in ts:\n",
    "        print(x, end=' ')\n",
    "    print(\"0\")\n",
    "        \n",
    "## at most one class from each time slot\n",
    "    for i in range(0,len(ts)):\n",
    "        for j in range(i+1,len(ts)):\n",
    "            print(max_weight, end=\" \")\n",
    "            print(-ts[i], end=' ')\n",
    "            print(-ts[j], end=' ')\n",
    "            print(\"0\")\n",
    "            j += 1;\n",
    "        i += 1;\n",
    "    time_slot += 1;"
   ]
  },
  {
   "cell_type": "code",
   "execution_count": 16,
   "metadata": {},
   "outputs": [
    {
     "name": "stdout",
     "output_type": "stream",
     "text": [
      "10 3 4 0\n",
      "30 -3 -4 0\n",
      "9 3 4 0\n",
      "30 -3 -4 0\n",
      "8 9 10 0\n",
      "30 -9 -10 0\n",
      "7 11 12 0\n",
      "30 -11 -12 0\n",
      "6 17 18 0\n",
      "30 -17 -18 0\n"
     ]
    }
   ],
   "source": [
    "### prints the clauses for the subject preference constraints\n",
    "pweight = 10;\n",
    "for x in preferences:\n",
    "    pl = df[df[\"Subject\"] == x][\"Class ID\"].values.tolist()\n",
    "        \n",
    "## picks one class per subject with corresponding weight\n",
    "    print(pweight, end=\" \")\n",
    "    for x in pl:\n",
    "        print(x, end=\" \")\n",
    "    print(\"0\")\n",
    "        \n",
    "## at most one class per subject\n",
    "    for i in range(0,len(pl)):\n",
    "        for j in range(i+1,len(pl)):\n",
    "            print(max_weight, end=\" \")\n",
    "            print(-pl[i], end=' ')\n",
    "            print(-pl[j], end=' ')\n",
    "            print(\"0\")\n",
    "            j += 1;\n",
    "        i += 1;\n",
    "    pweight -= 1;"
   ]
  },
  {
   "cell_type": "code",
   "execution_count": 21,
   "metadata": {},
   "outputs": [
    {
     "name": "stdout",
     "output_type": "stream",
     "text": [
      "20 1 2 3 4 5 6 7 8 9 10 0\n",
      "20 -1 2 3 4 5 6 7 8 9 10 0\n",
      "20 1 -2 3 4 5 6 7 8 9 10 0\n",
      "20 1 2 -3 4 5 6 7 8 9 10 0\n",
      "20 1 2 3 -4 5 6 7 8 9 10 0\n",
      "20 1 2 3 4 -5 6 7 8 9 10 0\n",
      "20 1 2 3 4 5 -6 7 8 9 10 0\n",
      "20 1 2 3 4 5 6 -7 8 9 10 0\n",
      "20 1 2 3 4 5 6 7 -8 9 10 0\n",
      "20 1 2 3 4 5 6 7 8 -9 10 0\n",
      "20 1 2 3 4 5 6 7 8 9 -10 0\n"
     ]
    }
   ],
   "source": [
    "tweight = 20;\n",
    "if max_stem == 2:\n",
    "    sl = df[df[\"Class Type\"] == \"STEM\"][\"Class ID\"].values.tolist()\n",
    "    print(tweight, end=\" \")\n",
    "    for x in sl:\n",
    "        print(x, end=\" \")\n",
    "    print(\"0\")\n",
    "    \n",
    "    for i in range(0,len(sl)):\n",
    "        print(tweight, end=\" \")\n",
    "        for x in sl:\n",
    "            if x == sl[i]:\n",
    "                print(-x, end=\" \")\n",
    "            else:\n",
    "                print(x, end=\" \")\n",
    "        print(\"0\")    \n",
    "        i += 1;\n",
    "elif max_stem == 1:\n",
    "    sl = df[df[\"Class Type\"] == \"STEM\"][\"Class ID\"].values.tolist()\n",
    "    for i in range(0,len(sl)):\n",
    "        for j in range(i+1,len(sl)):\n",
    "            print(max_weight, end=\" \")\n",
    "            print(-sl[i], end=' ')\n",
    "            print(-sl[j], end=' ')\n",
    "            print(\"0\")\n",
    "            j += 1;\n",
    "        i += 1;"
   ]
  },
  {
   "cell_type": "code",
   "execution_count": 23,
   "metadata": {},
   "outputs": [
    {
     "name": "stdout",
     "output_type": "stream",
     "text": [
      "30 -11 -12 0\n",
      "30 -11 -13 0\n",
      "30 -11 -14 0\n",
      "30 -12 -13 0\n",
      "30 -12 -14 0\n",
      "30 -13 -14 0\n"
     ]
    }
   ],
   "source": [
    "if max_art == 2:\n",
    "    al = df[df[\"Class Type\"] == \"Liberal Arts\"][\"Class ID\"].values.tolist()\n",
    "    print(tweight, end=\" \")\n",
    "    for x in al:\n",
    "        print(x, end=\" \")\n",
    "    print(\"0\")\n",
    "    \n",
    "    for i in range(0,len(sl)):\n",
    "        print(tweight, end=\" \")\n",
    "        for x in al:\n",
    "            if x == al[i]:\n",
    "                print(-x, end=\" \")\n",
    "            else:\n",
    "                print(x, end=\" \")\n",
    "        print(\"0\")    \n",
    "        i += 1;\n",
    "elif max_art == 1:\n",
    "    al = df[df[\"Class Type\"] == \"Liberal Arts\"][\"Class ID\"].values.tolist()\n",
    "    for i in range(0,len(al)):\n",
    "        for j in range(i+1,len(al)):\n",
    "            print(max_weight, end=\" \")\n",
    "            print(-al[i], end=' ')\n",
    "            print(-al[j], end=' ')\n",
    "            print(\"0\")\n",
    "            j += 1;\n",
    "        i += 1;"
   ]
  },
  {
   "cell_type": "code",
   "execution_count": 25,
   "metadata": {},
   "outputs": [
    {
     "name": "stdout",
     "output_type": "stream",
     "text": [
      "30 -15 -16 0\n",
      "30 -15 -17 0\n",
      "30 -15 -18 0\n",
      "30 -16 -17 0\n",
      "30 -16 -18 0\n",
      "30 -17 -18 0\n"
     ]
    }
   ],
   "source": [
    "if max_lang == 2:\n",
    "    ll = df[df[\"Class Type\"] == \"Foreign Language\"][\"Class ID\"].values.tolist()\n",
    "    print(tweight, end=\" \")\n",
    "    for x in ll:\n",
    "        print(x, end=\" \")\n",
    "    print(\"0\")\n",
    "    \n",
    "    for i in range(0,len(ll)):\n",
    "        print(tweight, end=\" \")\n",
    "        for x in ll:\n",
    "            if x == ll[i]:\n",
    "                print(-x, end=\" \")\n",
    "            else:\n",
    "                print(x, end=\" \")\n",
    "        print(\"0\")    \n",
    "        i += 1;\n",
    "elif max_lang == 1:\n",
    "    ll = df[df[\"Class Type\"] == \"Foreign Language\"][\"Class ID\"].values.tolist()\n",
    "    for i in range(0,len(ll)):\n",
    "        for j in range(i+1,len(ll)):\n",
    "            print(max_weight, end=\" \")\n",
    "            print(-ll[i], end=' ')\n",
    "            print(-ll[j], end=' ')\n",
    "            print(\"0\")\n",
    "            j += 1;\n",
    "        i += 1;"
   ]
  },
  {
   "cell_type": "code",
   "execution_count": 27,
   "metadata": {},
   "outputs": [
    {
     "name": "stdout",
     "output_type": "stream",
     "text": [
      "5 1 0\n",
      "5 7 0\n",
      "5 13 0\n",
      "5 15 0\n",
      "4 3 0\n",
      "4 8 0\n",
      "4 11 0\n",
      "4 18 0\n"
     ]
    }
   ],
   "source": [
    "prof_weight = 5;\n",
    "for x in good_prof:\n",
    "    profl = df[df[\"Professor\"] == x][\"Class ID\"].values.tolist()\n",
    "    for y in profl:\n",
    "        print(prof_weight, end=\" \")\n",
    "        print(y, end=\" \")\n",
    "        print(\"0\")\n",
    "    prof_weight -= 1;"
   ]
  },
  {
   "cell_type": "code",
   "execution_count": 28,
   "metadata": {},
   "outputs": [
    {
     "name": "stdout",
     "output_type": "stream",
     "text": [
      "5 -2 0\n",
      "5 -5 0\n",
      "5 -10 0\n",
      "5 -12 0\n",
      "4 -16 0\n",
      "4 -17 0\n"
     ]
    }
   ],
   "source": [
    "prof_weight = 5;\n",
    "for x in bad_prof:\n",
    "    profl = df[df[\"Professor\"] == x][\"Class ID\"].values.tolist()\n",
    "    for y in profl:\n",
    "        print(prof_weight, end=\" \")\n",
    "        print(-y, end=\" \")\n",
    "        print(\"0\")\n",
    "    prof_weight -= 1;"
   ]
  },
  {
   "cell_type": "code",
   "execution_count": null,
   "metadata": {},
   "outputs": [],
   "source": [
    "### creates wcnf file with information printed in DIMACS notation\n",
    "import sys\n",
    "orig_stdout = sys.stdout\n",
    "f = open('sample.wcnf', 'w')\n",
    "sys.stdout = f\n",
    "print(\"Hello World\")\n",
    "sys.stdout = orig_stdout\n",
    "f.close()"
   ]
  },
  {
   "cell_type": "code",
   "execution_count": null,
   "metadata": {},
   "outputs": [],
   "source": [
    "### runs the SAT4j MAX-SAT solver in a command shell\n",
    "import subprocess\n",
    "out = subprocess.check_output(['java', '-jar', 'sat4j-maxsat.jar', 'classes.wcnf']).decode('utf-8').split('\\n')\n",
    "out"
   ]
  },
  {
   "cell_type": "code",
   "execution_count": null,
   "metadata": {},
   "outputs": [],
   "source": [
    "### processes the output and shows the corresponding rows of class information from the dataframe\n",
    "answer = []\n",
    "for i in range(1, len(out[len(out) - 4].split()) - 1):\n",
    "    x = int(out[len(out) - 4].split()[i])\n",
    "    if x > 0:\n",
    "        answer.append(x)\n",
    "answer"
   ]
  },
  {
   "cell_type": "code",
   "execution_count": null,
   "metadata": {},
   "outputs": [],
   "source": [
    "df = pd.read_csv(schedule)\n",
    "df[df[\"Class ID\"].isin(answer)].sort_values(by=[\"Time Slot\"])"
   ]
  },
  {
   "cell_type": "code",
   "execution_count": null,
   "metadata": {},
   "outputs": [],
   "source": [
    "out[len(out) - 2][1:43]"
   ]
  },
  {
   "cell_type": "code",
   "execution_count": null,
   "metadata": {},
   "outputs": [],
   "source": []
  }
 ],
 "metadata": {
  "kernelspec": {
   "display_name": "Python 3",
   "language": "python",
   "name": "python3"
  },
  "language_info": {
   "codemirror_mode": {
    "name": "ipython",
    "version": 3
   },
   "file_extension": ".py",
   "mimetype": "text/x-python",
   "name": "python",
   "nbconvert_exporter": "python",
   "pygments_lexer": "ipython3",
   "version": "3.7.6"
  }
 },
 "nbformat": 4,
 "nbformat_minor": 4
}
